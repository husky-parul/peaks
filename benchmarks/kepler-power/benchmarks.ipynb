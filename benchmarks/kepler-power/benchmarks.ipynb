{
 "cells": [
  {
   "cell_type": "code",
   "execution_count": 2,
   "metadata": {},
   "outputs": [],
   "source": [
    "import csv\n",
    "with open('eggs.csv', 'w', newline='') as csvfile:\n",
    "    spamwriter = csv.writer(csvfile, delimiter=' ',\n",
    "                            quotechar='|', quoting=csv.QUOTE_MINIMAL)\n",
    "    spamwriter.writerow(['Spam'] * 5 + ['Baked Beans'])\n",
    "    spamwriter.writerow(['Spam', 'Lovely Spam', 'Wonderful Spam'])"
   ]
  },
  {
   "cell_type": "code",
   "execution_count": 15,
   "metadata": {},
   "outputs": [
    {
     "name": "stdout",
     "output_type": "stream",
     "text": [
      "stress-ng --cpu 2--cpu-method int64 -t 60s\n"
     ]
    },
    {
     "name": "stderr",
     "output_type": "stream",
     "text": [
      "stress-ng: unrecognized option '--cpu-method int64'\n"
     ]
    },
    {
     "data": {
      "text/plain": [
       "\"Try 'stress-ng --help' for more information.\\n\""
      ]
     },
     "execution_count": 15,
     "metadata": {},
     "output_type": "execute_result"
    }
   ],
   "source": [
    "import csv\n",
    "import subprocess\n",
    "with open('kepler-data.csv', 'w', newline='') as csvfile:\n",
    "    wr = csv.writer(csvfile, delimiter=',',quotechar=' ', quoting=csv.QUOTE_MINIMAL)\n",
    "    wr.writerow(['Package Power From Kepler', 'Number of CPUs'])\n",
    "\n",
    "cpu_num = 2\n",
    "time=60\n",
    "cmd = \"stress-ng --cpu \"+str(cpu_num)+\"--cpu-method int64 -t \"+str(time)+\"s\"\n",
    "print(cmd)\n",
    "process1=subprocess.run([\"stress-ng\",\"--cpu\",str(cpu_num),\" --cpu-method int64\",\"-t\",str(time)+\"s\"], stdout=subprocess.PIPE, text=True) \n",
    "process1.stdout\n"
   ]
  }
 ],
 "metadata": {
  "kernelspec": {
   "display_name": "Python 3",
   "language": "python",
   "name": "python3"
  },
  "language_info": {
   "codemirror_mode": {
    "name": "ipython",
    "version": 3
   },
   "file_extension": ".py",
   "mimetype": "text/x-python",
   "name": "python",
   "nbconvert_exporter": "python",
   "pygments_lexer": "ipython3",
   "version": "3.11.7"
  }
 },
 "nbformat": 4,
 "nbformat_minor": 2
}
